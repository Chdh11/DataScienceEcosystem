{
 "cells": [
  {
   "cell_type": "markdown",
   "id": "29581d15",
   "metadata": {},
   "source": [
    "# Data Science Tools and Ecosystem"
   ]
  },
  {
   "cell_type": "markdown",
   "id": "e9bb4f29",
   "metadata": {},
   "source": [
    "In this notebook, Data Science Tools and Ecosystem are summarized"
   ]
  },
  {
   "cell_type": "markdown",
   "id": "00fe6fe8",
   "metadata": {},
   "source": [
    "**Objectives:**\n",
    "+ List popular languages for Data Science\n",
    "+ List some commonly used libraries in Data Science\n",
    "+ List popular development environments open source tools used in data science\n",
    "+ Airthmetic expressions in python"
   ]
  },
  {
   "cell_type": "markdown",
   "id": "1f6c85f2",
   "metadata": {},
   "source": [
    "Some of the popular languages that Data Scientists use are:\n",
    "1. Pyhton\n",
    "2. R\n",
    "3. SQL\n",
    "4. Java\n",
    "5. Julia\n",
    "6. Scala\n",
    "7. PHP\n",
    "8. Javascript\n",
    "9. Golang\n",
    "10. C++\n",
    "11. Visual Basic\n",
    "12. Ruby"
   ]
  },
  {
   "cell_type": "markdown",
   "id": "5c681c13",
   "metadata": {},
   "source": [
    "Some of the commonly used libraries used by Data Scientists include:\n",
    "+ Pandas\n",
    "+ Numpy\n",
    "+ Matplotlib\n",
    "+ Seaborn\n",
    "+ Scikit-learn\n",
    "+ Tensorflow\n",
    "\n",
    "and many more"
   ]
  },
  {
   "cell_type": "markdown",
   "id": "a823f254",
   "metadata": {},
   "source": [
    "| Data Science Tools |\n",
    "|--------------------|\n",
    "| Jupyter Notebooks and JupyterLab |\n",
    "| RStudio |\n",
    "| Apache Spark |\n",
    "| VS-Code |"
   ]
  },
  {
   "cell_type": "markdown",
   "id": "96f2f705",
   "metadata": {},
   "source": [
    "### Below are a few examples of evaluating arithmetic expressions in Python"
   ]
  },
  {
   "cell_type": "code",
   "execution_count": 1,
   "id": "cce4c153",
   "metadata": {},
   "outputs": [
    {
     "data": {
      "text/plain": [
       "17"
      ]
     },
     "execution_count": 1,
     "metadata": {},
     "output_type": "execute_result"
    }
   ],
   "source": [
    "(3*4)+5\n",
    "#This is a simple airthmetic expression to multiply then add integers"
   ]
  },
  {
   "cell_type": "code",
   "execution_count": 3,
   "id": "dd37d453",
   "metadata": {},
   "outputs": [
    {
     "name": "stdout",
     "output_type": "stream",
     "text": [
      "3.3333333333333335\n"
     ]
    }
   ],
   "source": [
    "minutes=200\n",
    "hours=minutes/60\n",
    "print(hours)\n",
    "#This will convert 200 minutes to hours by dividing by 60"
   ]
  },
  {
   "cell_type": "markdown",
   "id": "b1b7d684",
   "metadata": {},
   "source": [
    "## Author\n",
    "Chhavi Dhankhar"
   ]
  }
 ],
 "metadata": {
  "kernelspec": {
   "display_name": "Python 3 (ipykernel)",
   "language": "python",
   "name": "python3"
  },
  "language_info": {
   "codemirror_mode": {
    "name": "ipython",
    "version": 3
   },
   "file_extension": ".py",
   "mimetype": "text/x-python",
   "name": "python",
   "nbconvert_exporter": "python",
   "pygments_lexer": "ipython3",
   "version": "3.10.9"
  }
 },
 "nbformat": 4,
 "nbformat_minor": 5
}
